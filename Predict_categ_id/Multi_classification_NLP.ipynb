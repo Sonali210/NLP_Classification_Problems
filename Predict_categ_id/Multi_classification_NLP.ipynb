{
  "nbformat": 4,
  "nbformat_minor": 0,
  "metadata": {
    "colab": {
      "name": "Multi classification NLP.ipynb",
      "provenance": []
    },
    "kernelspec": {
      "display_name": "Python 3",
      "name": "python3"
    },
    "language_info": {
      "name": "python"
    }
  },
  "cells": [
    {
      "cell_type": "code",
      "metadata": {
        "colab": {
          "base_uri": "https://localhost:8080/"
        },
        "id": "wfbaEzjM5jIn",
        "outputId": "75d993a9-377f-4669-e28c-96e858d1bd4a"
      },
      "source": [
        "from google.colab import drive\n",
        "drive.mount('/content/drive')"
      ],
      "execution_count": 2,
      "outputs": [
        {
          "output_type": "stream",
          "text": [
            "Drive already mounted at /content/drive; to attempt to forcibly remount, call drive.mount(\"/content/drive\", force_remount=True).\n"
          ],
          "name": "stdout"
        }
      ]
    },
    {
      "cell_type": "code",
      "metadata": {
        "colab": {
          "base_uri": "https://localhost:8080/"
        },
        "id": "1vtr97Qt5-lV",
        "outputId": "c69522e5-5923-4c58-f900-71d0fecc40ce"
      },
      "source": [
        "cd drive/MyDrive/"
      ],
      "execution_count": 3,
      "outputs": [
        {
          "output_type": "stream",
          "text": [
            "/content/drive/MyDrive\n"
          ],
          "name": "stdout"
        }
      ]
    },
    {
      "cell_type": "code",
      "metadata": {
        "colab": {
          "base_uri": "https://localhost:8080/"
        },
        "id": "X-KlZKPA6Hnt",
        "outputId": "b1849bed-2da9-461b-af44-ced8f7a09d6b"
      },
      "source": [
        "ls"
      ],
      "execution_count": 4,
      "outputs": [
        {
          "output_type": "stream",
          "text": [
            "\u001b[0m\u001b[01;34m'Colab Notebooks'\u001b[0m/  \u001b[01;34m'NLP '\u001b[0m/\n"
          ],
          "name": "stdout"
        }
      ]
    },
    {
      "cell_type": "code",
      "metadata": {
        "colab": {
          "base_uri": "https://localhost:8080/"
        },
        "id": "03wikFeO6JHK",
        "outputId": "e8f9cac5-262b-4081-c7e8-2a1da5aa2cc5"
      },
      "source": [
        "cd NLP\\ "
      ],
      "execution_count": 5,
      "outputs": [
        {
          "output_type": "stream",
          "text": [
            "/content/drive/MyDrive/NLP \n"
          ],
          "name": "stdout"
        }
      ]
    },
    {
      "cell_type": "code",
      "metadata": {
        "colab": {
          "base_uri": "https://localhost:8080/"
        },
        "id": "1pCRTMee6OI0",
        "outputId": "282c8163-1d7d-41b1-993d-69843aafd8d1"
      },
      "source": [
        "ls"
      ],
      "execution_count": 6,
      "outputs": [
        {
          "output_type": "stream",
          "text": [
            "\u001b[0m\u001b[01;34mClassification\u001b[0m/\n"
          ],
          "name": "stdout"
        }
      ]
    },
    {
      "cell_type": "code",
      "metadata": {
        "colab": {
          "base_uri": "https://localhost:8080/"
        },
        "id": "FIJTyVbO6O-U",
        "outputId": "0d7cc578-6702-4b14-d9b1-e912970a55fb"
      },
      "source": [
        "cd Classification/"
      ],
      "execution_count": 7,
      "outputs": [
        {
          "output_type": "stream",
          "text": [
            "/content/drive/MyDrive/NLP /Classification\n"
          ],
          "name": "stdout"
        }
      ]
    },
    {
      "cell_type": "code",
      "metadata": {
        "colab": {
          "base_uri": "https://localhost:8080/"
        },
        "id": "582de7hj6RI2",
        "outputId": "a6faa6a4-924e-4f94-e35d-b8fcfd6aaf38"
      },
      "source": [
        "ls"
      ],
      "execution_count": 8,
      "outputs": [
        {
          "output_type": "stream",
          "text": [
            "\u001b[0m\u001b[01;34mdataset\u001b[0m/  dataset.zip\n"
          ],
          "name": "stdout"
        }
      ]
    },
    {
      "cell_type": "code",
      "metadata": {
        "colab": {
          "base_uri": "https://localhost:8080/"
        },
        "id": "e5YD-OTx6YB4",
        "outputId": "d5d40308-90e0-425c-edc6-0c210e456c37"
      },
      "source": [
        "!unzip dataset.zip"
      ],
      "execution_count": null,
      "outputs": [
        {
          "output_type": "stream",
          "text": [
            "Archive:  dataset.zip\n",
            "replace dataset/sample_submission.csv? [y]es, [n]o, [A]ll, [N]one, [r]ename: "
          ],
          "name": "stdout"
        }
      ]
    },
    {
      "cell_type": "code",
      "metadata": {
        "colab": {
          "base_uri": "https://localhost:8080/"
        },
        "id": "C0R6RYJK6iR5",
        "outputId": "f64d54a2-25e9-4c95-acc5-0c26a058ae1f"
      },
      "source": [
        "ls"
      ],
      "execution_count": 9,
      "outputs": [
        {
          "output_type": "stream",
          "text": [
            "\u001b[0m\u001b[01;34mdataset\u001b[0m/  dataset.zip\n"
          ],
          "name": "stdout"
        }
      ]
    },
    {
      "cell_type": "code",
      "metadata": {
        "colab": {
          "base_uri": "https://localhost:8080/"
        },
        "id": "fgJ2ecka7KuN",
        "outputId": "d5b041f0-12f0-440a-b217-1f8d70292bcb"
      },
      "source": [
        "cd dataset/"
      ],
      "execution_count": 10,
      "outputs": [
        {
          "output_type": "stream",
          "text": [
            "/content/drive/MyDrive/NLP /Classification/dataset\n"
          ],
          "name": "stdout"
        }
      ]
    },
    {
      "cell_type": "code",
      "metadata": {
        "colab": {
          "base_uri": "https://localhost:8080/"
        },
        "id": "N62abJmR7OBJ",
        "outputId": "61d31baa-8ba1-4ebf-a538-9b9e1519df80"
      },
      "source": [
        "ls"
      ],
      "execution_count": 11,
      "outputs": [
        {
          "output_type": "stream",
          "text": [
            "sample_submission.csv  test.csv  train.csv\n"
          ],
          "name": "stdout"
        }
      ]
    },
    {
      "cell_type": "code",
      "metadata": {
        "id": "DWgTvsm_7O0r"
      },
      "source": [
        "import pandas as pd\n",
        "import re\n",
        "import nltk\n",
        "from nltk.corpus import stopwords\n",
        "from nltk.stem.porter import PorterStemmer\n",
        "from sklearn.feature_extraction.text import CountVectorizer\n",
        "from sklearn.svm import SVC\n",
        "from sklearn.metrics import confusion_matrix"
      ],
      "execution_count": 12,
      "outputs": []
    },
    {
      "cell_type": "code",
      "metadata": {
        "id": "r-U824ra9Ene"
      },
      "source": [
        "dataset = pd.read_csv('train.csv')"
      ],
      "execution_count": 13,
      "outputs": []
    },
    {
      "cell_type": "code",
      "metadata": {
        "colab": {
          "base_uri": "https://localhost:8080/",
          "height": 206
        },
        "id": "UM4xCT9m9W2T",
        "outputId": "a2ba7f07-03c9-47d2-d518-86e4f8bd451b"
      },
      "source": [
        "dataset.head()"
      ],
      "execution_count": 14,
      "outputs": [
        {
          "output_type": "execute_result",
          "data": {
            "text/html": [
              "<div>\n",
              "<style scoped>\n",
              "    .dataframe tbody tr th:only-of-type {\n",
              "        vertical-align: middle;\n",
              "    }\n",
              "\n",
              "    .dataframe tbody tr th {\n",
              "        vertical-align: top;\n",
              "    }\n",
              "\n",
              "    .dataframe thead th {\n",
              "        text-align: right;\n",
              "    }\n",
              "</style>\n",
              "<table border=\"1\" class=\"dataframe\">\n",
              "  <thead>\n",
              "    <tr style=\"text-align: right;\">\n",
              "      <th></th>\n",
              "      <th>video_id</th>\n",
              "      <th>category_id</th>\n",
              "      <th>description</th>\n",
              "    </tr>\n",
              "  </thead>\n",
              "  <tbody>\n",
              "    <tr>\n",
              "      <th>0</th>\n",
              "      <td>7NcVNt7zQJM</td>\n",
              "      <td>10.0</td>\n",
              "      <td>Music video by Luke Bryan performing Out Of No...</td>\n",
              "    </tr>\n",
              "    <tr>\n",
              "      <th>1</th>\n",
              "      <td>hNsd-m30m2E</td>\n",
              "      <td>24.0</td>\n",
              "      <td>thanks for watching!!! happy holidays everyone...</td>\n",
              "    </tr>\n",
              "    <tr>\n",
              "      <th>2</th>\n",
              "      <td>yLdav-8af6g</td>\n",
              "      <td>1.0</td>\n",
              "      <td>Marcus and Adam build their own custom lightsa...</td>\n",
              "    </tr>\n",
              "    <tr>\n",
              "      <th>3</th>\n",
              "      <td>Ii3Rr4-Pxow</td>\n",
              "      <td>26.0</td>\n",
              "      <td>Make sure you subscribe to my channel and hit ...</td>\n",
              "    </tr>\n",
              "    <tr>\n",
              "      <th>4</th>\n",
              "      <td>515lLZS082U</td>\n",
              "      <td>24.0</td>\n",
              "      <td>It's a riff-off pitches! Get Tix: http://unvrs...</td>\n",
              "    </tr>\n",
              "  </tbody>\n",
              "</table>\n",
              "</div>"
            ],
            "text/plain": [
              "      video_id  category_id                                        description\n",
              "0  7NcVNt7zQJM         10.0  Music video by Luke Bryan performing Out Of No...\n",
              "1  hNsd-m30m2E         24.0  thanks for watching!!! happy holidays everyone...\n",
              "2  yLdav-8af6g          1.0  Marcus and Adam build their own custom lightsa...\n",
              "3  Ii3Rr4-Pxow         26.0  Make sure you subscribe to my channel and hit ...\n",
              "4  515lLZS082U         24.0  It's a riff-off pitches! Get Tix: http://unvrs..."
            ]
          },
          "metadata": {
            "tags": []
          },
          "execution_count": 14
        }
      ]
    },
    {
      "cell_type": "code",
      "metadata": {
        "id": "4HNL-ui4t1yL"
      },
      "source": [
        "dataset.drop(['video_id'], axis = 1, inplace = True)"
      ],
      "execution_count": 15,
      "outputs": []
    },
    {
      "cell_type": "code",
      "metadata": {
        "id": "1H9qFuxT_uiE"
      },
      "source": [
        "dataset.dropna(inplace = True)"
      ],
      "execution_count": 16,
      "outputs": []
    },
    {
      "cell_type": "code",
      "metadata": {
        "colab": {
          "base_uri": "https://localhost:8080/",
          "height": 206
        },
        "id": "nTowqZAVuP8z",
        "outputId": "546a37b3-0bc6-4a54-a38c-a57d29283f10"
      },
      "source": [
        "dataset.tail()"
      ],
      "execution_count": 17,
      "outputs": [
        {
          "output_type": "execute_result",
          "data": {
            "text/html": [
              "<div>\n",
              "<style scoped>\n",
              "    .dataframe tbody tr th:only-of-type {\n",
              "        vertical-align: middle;\n",
              "    }\n",
              "\n",
              "    .dataframe tbody tr th {\n",
              "        vertical-align: top;\n",
              "    }\n",
              "\n",
              "    .dataframe thead th {\n",
              "        text-align: right;\n",
              "    }\n",
              "</style>\n",
              "<table border=\"1\" class=\"dataframe\">\n",
              "  <thead>\n",
              "    <tr style=\"text-align: right;\">\n",
              "      <th></th>\n",
              "      <th>category_id</th>\n",
              "      <th>description</th>\n",
              "    </tr>\n",
              "  </thead>\n",
              "  <tbody>\n",
              "    <tr>\n",
              "      <th>3466</th>\n",
              "      <td>24.0</td>\n",
              "      <td>Subscribe now for more! http://bit.ly/1KyA9sV\\...</td>\n",
              "    </tr>\n",
              "    <tr>\n",
              "      <th>3467</th>\n",
              "      <td>28.0</td>\n",
              "      <td>Get a free audio book by clicking http://www.a...</td>\n",
              "    </tr>\n",
              "    <tr>\n",
              "      <th>3468</th>\n",
              "      <td>10.0</td>\n",
              "      <td>The Official video for Moby's Like A Motherles...</td>\n",
              "    </tr>\n",
              "    <tr>\n",
              "      <th>3469</th>\n",
              "      <td>26.0</td>\n",
              "      <td>Hey Larlees, todays video is a fun collab with...</td>\n",
              "    </tr>\n",
              "    <tr>\n",
              "      <th>3470</th>\n",
              "      <td>22.0</td>\n",
              "      <td>http://billwurtz.com\\n\\n\\n\\npatreon:  http://p...</td>\n",
              "    </tr>\n",
              "  </tbody>\n",
              "</table>\n",
              "</div>"
            ],
            "text/plain": [
              "      category_id                                        description\n",
              "3466         24.0  Subscribe now for more! http://bit.ly/1KyA9sV\\...\n",
              "3467         28.0  Get a free audio book by clicking http://www.a...\n",
              "3468         10.0  The Official video for Moby's Like A Motherles...\n",
              "3469         26.0  Hey Larlees, todays video is a fun collab with...\n",
              "3470         22.0  http://billwurtz.com\\n\\n\\n\\npatreon:  http://p..."
            ]
          },
          "metadata": {
            "tags": []
          },
          "execution_count": 17
        }
      ]
    },
    {
      "cell_type": "markdown",
      "metadata": {
        "id": "UKJa9bJTtT8Z"
      },
      "source": [
        "Preprocessing"
      ]
    },
    {
      "cell_type": "code",
      "metadata": {
        "id": "lXQD_GoI9aJO",
        "colab": {
          "base_uri": "https://localhost:8080/"
        },
        "outputId": "e77807b2-d901-4488-c1eb-56a42cb995bd"
      },
      "source": [
        "nltk.download('stopwords') \n",
        "corpus = [] \n",
        "ps = PorterStemmer() \n",
        "for i in range(len(dataset)): \n",
        "   #Removing special characters\n",
        "   text = re.sub('[^a-zA-Z]', ' ', dataset['description'][i]).lower().split()\n",
        "   #.lower()\n",
        "   #Stemming and removing stop words\n",
        "   text = [ps.stem(word) for word in text if not word in set(stopwords.words('english'))]\n",
        "   #lower\n",
        "   text = [entry.lower() for entry in text]\n",
        "   #Joining all the cleaned words to form a sentence\n",
        "   text = ' '.join(text)\n",
        "   #Adding the cleaned sentence to a list\n",
        "   corpus.append(text)"
      ],
      "execution_count": 45,
      "outputs": [
        {
          "output_type": "stream",
          "text": [
            "[nltk_data] Downloading package stopwords to /root/nltk_data...\n",
            "[nltk_data]   Package stopwords is already up-to-date!\n"
          ],
          "name": "stdout"
        }
      ]
    },
    {
      "cell_type": "markdown",
      "metadata": {
        "id": "f1FMCbZLu17W"
      },
      "source": [
        "Generate count Vector\n"
      ]
    },
    {
      "cell_type": "code",
      "metadata": {
        "id": "oMvmYXqhu2Pg"
      },
      "source": [
        "cv = CountVectorizer(max_features = 120)\n",
        "X = cv.fit_transform(corpus).toarray()\n",
        "y = dataset['category_id'].values"
      ],
      "execution_count": 46,
      "outputs": []
    },
    {
      "cell_type": "code",
      "metadata": {
        "id": "bRNgXWRYu2eE"
      },
      "source": [
        "from sklearn.model_selection import train_test_split\n",
        "X_train, X_val, y_train, y_val = train_test_split(X, y, test_size = 0.30, random_state = 0)"
      ],
      "execution_count": 47,
      "outputs": []
    },
    {
      "cell_type": "code",
      "metadata": {
        "colab": {
          "base_uri": "https://localhost:8080/"
        },
        "id": "OoevgVl3u2tJ",
        "outputId": "814bca14-9a36-42a9-c4df-03e0a2d51911"
      },
      "source": [
        "classifier = SVC()\n",
        "classifier.fit(X_train, y_train)"
      ],
      "execution_count": 48,
      "outputs": [
        {
          "output_type": "execute_result",
          "data": {
            "text/plain": [
              "SVC(C=1.0, break_ties=False, cache_size=200, class_weight=None, coef0=0.0,\n",
              "    decision_function_shape='ovr', degree=3, gamma='scale', kernel='rbf',\n",
              "    max_iter=-1, probability=False, random_state=None, shrinking=True,\n",
              "    tol=0.001, verbose=False)"
            ]
          },
          "metadata": {
            "tags": []
          },
          "execution_count": 48
        }
      ]
    },
    {
      "cell_type": "code",
      "metadata": {
        "id": "Q105cdR0vNXu"
      },
      "source": [
        "y_pred = classifier.predict(X_val)"
      ],
      "execution_count": 49,
      "outputs": []
    },
    {
      "cell_type": "code",
      "metadata": {
        "colab": {
          "base_uri": "https://localhost:8080/"
        },
        "id": "d_EbWk0JvNiH",
        "outputId": "eab5deb2-92ab-4b5b-c26f-17c46aa458fb"
      },
      "source": [
        "def accuracy(confusion_matrix):\n",
        "   diagonal_sum = confusion_matrix.trace()\n",
        "   sum_of_all_elements = confusion_matrix.sum()\n",
        "   return diagonal_sum / sum_of_all_elements\n",
        "\n",
        "#Creating the confusion matrix with y_val and y_pred\n",
        "cm = confusion_matrix(y_val, y_pred)\n",
        "\n",
        "print(\"Accuracy : \", accuracy(cm))"
      ],
      "execution_count": 50,
      "outputs": [
        {
          "output_type": "stream",
          "text": [
            "Accuracy :  0.472168905950096\n"
          ],
          "name": "stdout"
        }
      ]
    },
    {
      "cell_type": "code",
      "metadata": {
        "id": "vp_mrzMaxAIk"
      },
      "source": [
        "from sklearn import model_selection, naive_bayes, svm\n",
        "from sklearn.metrics import accuracy_score"
      ],
      "execution_count": 51,
      "outputs": []
    },
    {
      "cell_type": "code",
      "metadata": {
        "colab": {
          "base_uri": "https://localhost:8080/"
        },
        "id": "4e5blC3nvNu1",
        "outputId": "548f8fb5-7c7e-4cd2-92d4-47e29d89f821"
      },
      "source": [
        "Naive = naive_bayes.MultinomialNB()\n",
        "Naive.fit(X_train, y_train)\n",
        "# predict the labels on validation dataset\n",
        "predictions_NB = Naive.predict(X_val)\n",
        "# Use accuracy_score function to get the accuracy\n",
        "print(\"Naive Bayes Accuracy Score -> \",accuracy_score(predictions_NB, y_val)*100)"
      ],
      "execution_count": 52,
      "outputs": [
        {
          "output_type": "stream",
          "text": [
            "Naive Bayes Accuracy Score ->  42.32245681381958\n"
          ],
          "name": "stdout"
        }
      ]
    },
    {
      "cell_type": "code",
      "metadata": {
        "colab": {
          "base_uri": "https://localhost:8080/"
        },
        "id": "ma_ygPKLw4if",
        "outputId": "657c206e-fa11-435e-8766-d2fd72007321"
      },
      "source": [
        "SVM = svm.SVC(C=1.0, kernel='linear', degree=3, gamma='auto')\n",
        "SVM.fit(X_train, y_train)\n",
        "# predict the labels on validation dataset\n",
        "predictions_SVM = SVM.predict(X_val)\n",
        "# Use accuracy_score function to get the accuracy\n",
        "print(\"SVM Accuracy Score -> \",accuracy_score(predictions_SVM, y_val)*100)"
      ],
      "execution_count": 53,
      "outputs": [
        {
          "output_type": "stream",
          "text": [
            "SVM Accuracy Score ->  62.18809980806142\n"
          ],
          "name": "stdout"
        }
      ]
    },
    {
      "cell_type": "code",
      "metadata": {
        "colab": {
          "base_uri": "https://localhost:8080/"
        },
        "id": "7GXaOEIr0NBh",
        "outputId": "1141e686-ceac-47e4-8b6a-a335d4fd987e"
      },
      "source": [
        "from sklearn.ensemble import BaggingClassifier\n",
        "from sklearn.multiclass import OneVsRestClassifier\n",
        "\n",
        "bagClassifier = BaggingClassifier(n_jobs=-1)\n",
        "bagClassifier.fit(X_train, y_train)\n",
        "bagPreds = bagClassifier.predict(X_val)\n",
        "# Use accuracy_score function to get the accuracy\n",
        "print(\"Bagging classifier Accuracy Score -> \",accuracy_score(bagPreds, y_val)*100)"
      ],
      "execution_count": 61,
      "outputs": [
        {
          "output_type": "stream",
          "text": [
            "Bagging classifier Accuracy Score ->  73.70441458733205\n"
          ],
          "name": "stdout"
        }
      ]
    },
    {
      "cell_type": "code",
      "metadata": {
        "colab": {
          "base_uri": "https://localhost:8080/"
        },
        "id": "4umFhV9CGJ-Q",
        "outputId": "018934e1-1fae-48ad-ba6e-b45864505974"
      },
      "source": [
        "from sklearn.naive_bayes import MultinomialNB\n",
        "\n",
        "nbClassifier = MultinomialNB()\n",
        "nbClassifier.fit(X_train, y_train)\n",
        "nbPreds = nbClassifier.predict(X_val)\n",
        "print(\"gradient naive_bayes classifier Accuracy Score -> \",accuracy_score(nbPreds, y_val)*100)"
      ],
      "execution_count": 62,
      "outputs": [
        {
          "output_type": "stream",
          "text": [
            "gradient naive_bayes classifier Accuracy Score ->  42.32245681381958\n"
          ],
          "name": "stdout"
        }
      ]
    },
    {
      "cell_type": "code",
      "metadata": {
        "colab": {
          "base_uri": "https://localhost:8080/"
        },
        "id": "e06yU8FZG9bd",
        "outputId": "1e688d6e-d984-4bc4-ac4f-1a3b184b696d"
      },
      "source": [
        "from sklearn.ensemble import GradientBoostingClassifier\n",
        "\n",
        "boostClassifier = GradientBoostingClassifier()\n",
        "boostClassifier.fit(X_train, y_train)\n",
        "boostPreds = boostClassifier.predict(X_val)\n",
        "# Use accuracy_score function to get the accuracy\n",
        "print(\"gradient booster classifier Accuracy Score -> \",accuracy_score(boostPreds, y_val)*100)"
      ],
      "execution_count": 59,
      "outputs": [
        {
          "output_type": "stream",
          "text": [
            "gradient booster classifier Accuracy Score ->  66.41074856046065\n"
          ],
          "name": "stdout"
        }
      ]
    },
    {
      "cell_type": "code",
      "metadata": {
        "colab": {
          "base_uri": "https://localhost:8080/"
        },
        "id": "7Wr-Ea2SHHpR",
        "outputId": "405de22e-543b-453a-d381-227e9fb7ebf6"
      },
      "source": [
        "from sklearn.ensemble import RandomForestClassifier\n",
        "rfClassifier = RandomForestClassifier(n_jobs=-1)\n",
        "rfClassifier.fit(X_train, y_train)\n",
        "rfPreds = rfClassifier.predict(X_val)\n",
        "print(\"random forest classifier Accuracy Score -> \",accuracy_score(rfPreds, y_val)*100)"
      ],
      "execution_count": 64,
      "outputs": [
        {
          "output_type": "stream",
          "text": [
            "random forest classifier Accuracy Score ->  77.2552783109405\n"
          ],
          "name": "stdout"
        }
      ]
    },
    {
      "cell_type": "code",
      "metadata": {
        "colab": {
          "base_uri": "https://localhost:8080/"
        },
        "id": "whqSqo9MHzvy",
        "outputId": "46096c5d-224c-4196-d1c2-634f7d88e500"
      },
      "source": [
        "from sklearn.tree import DecisionTreeClassifier\n",
        "\n",
        "dtClassifier = DecisionTreeClassifier()\n",
        "dtClassifier.fit(X_train, y_train)\n",
        "dtPreds = dtClassifier.predict(X_val)\n",
        "print(\"decision tree classifier Accuracy Score -> \",accuracy_score(rfPreds, y_val)*100)"
      ],
      "execution_count": 65,
      "outputs": [
        {
          "output_type": "stream",
          "text": [
            "decision tree classifier Accuracy Score ->  77.2552783109405\n"
          ],
          "name": "stdout"
        }
      ]
    },
    {
      "cell_type": "code",
      "metadata": {
        "colab": {
          "base_uri": "https://localhost:8080/"
        },
        "id": "hI5YjUGMIIkW",
        "outputId": "fb18f5c0-651e-40a1-fb4f-1654a8081d72"
      },
      "source": [
        "from sklearn.neighbors import KNeighborsClassifier\n",
        "from sklearn.multiclass import OneVsRestClassifier\n",
        "\n",
        "knnClf = KNeighborsClassifier()\n",
        "\n",
        "knnClf.fit(X_train, y_train)\n",
        "knnPredictions = knnClf.predict(X_val)\n",
        "print(\"kneighbors classifier Accuracy Score -> \",accuracy_score(rfPreds, y_val)*100)"
      ],
      "execution_count": 66,
      "outputs": [
        {
          "output_type": "stream",
          "text": [
            "kneighbors classifier Accuracy Score ->  77.2552783109405\n"
          ],
          "name": "stdout"
        }
      ]
    },
    {
      "cell_type": "code",
      "metadata": {
        "id": "5khW0HE5I3Eq"
      },
      "source": [
        ""
      ],
      "execution_count": 72,
      "outputs": []
    }
  ]
}